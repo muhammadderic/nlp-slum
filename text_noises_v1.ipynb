{
  "nbformat": 4,
  "nbformat_minor": 0,
  "metadata": {
    "colab": {
      "provenance": [],
      "toc_visible": true
    },
    "kernelspec": {
      "name": "python3",
      "display_name": "Python 3"
    },
    "language_info": {
      "name": "python"
    }
  },
  "cells": [
    {
      "cell_type": "markdown",
      "source": [
        "# Text Acquisition"
      ],
      "metadata": {
        "id": "W6HaJMRxCth2"
      }
    },
    {
      "cell_type": "code",
      "source": [
        "!pip install kaggle --quiet"
      ],
      "metadata": {
        "id": "fFmam3_ECznq"
      },
      "execution_count": 1,
      "outputs": []
    },
    {
      "cell_type": "code",
      "source": [
        "# from google.colab import files\n",
        "# files.upload()  # This will prompt you to upload the kaggle.json file"
      ],
      "metadata": {
        "id": "Bgd2kXI-C1LY"
      },
      "execution_count": 3,
      "outputs": []
    },
    {
      "cell_type": "code",
      "source": [
        "#!/bin/bash\n",
        "!kaggle datasets download lakshmi25npathi/imdb-dataset-of-50k-movie-reviews\n",
        "!mkdir imdb-dataset\n",
        "!unzip imdb-dataset-of-50k-movie-reviews.zip -d imdb-dataset"
      ],
      "metadata": {
        "colab": {
          "base_uri": "https://localhost:8080/"
        },
        "id": "cp_nny9ECwhk",
        "outputId": "8642238e-8116-4969-9124-5769de882b23"
      },
      "execution_count": 4,
      "outputs": [
        {
          "output_type": "stream",
          "name": "stdout",
          "text": [
            "Dataset URL: https://www.kaggle.com/datasets/lakshmi25npathi/imdb-dataset-of-50k-movie-reviews\n",
            "License(s): other\n",
            "Downloading imdb-dataset-of-50k-movie-reviews.zip to /content\n",
            " 86% 22.0M/25.7M [00:00<00:00, 36.3MB/s]\n",
            "100% 25.7M/25.7M [00:00<00:00, 34.4MB/s]\n",
            "Archive:  imdb-dataset-of-50k-movie-reviews.zip\n",
            "  inflating: imdb-dataset/IMDB Dataset.csv  \n"
          ]
        }
      ]
    },
    {
      "cell_type": "code",
      "source": [
        "import re\n",
        "\n",
        "import pandas as pd\n",
        "\n",
        "import nltk"
      ],
      "metadata": {
        "id": "USgV_oajDJb8"
      },
      "execution_count": 5,
      "outputs": []
    },
    {
      "cell_type": "code",
      "source": [],
      "metadata": {
        "id": "LoVcLG33Dr3s"
      },
      "execution_count": 24,
      "outputs": []
    },
    {
      "cell_type": "markdown",
      "source": [
        "# Text Preprocessing"
      ],
      "metadata": {
        "id": "szVkD-YVC9hT"
      }
    },
    {
      "cell_type": "code",
      "source": [
        "df = pd.read_csv('/content/imdb-dataset/IMDB Dataset.csv')\n",
        "\n",
        "# | df.head(3)\n",
        "#   review\t                                          sentiment\n",
        "# 0\tOne of the other reviewers has mentioned that ...\tpositive\n",
        "# 1\tA wonderful little production. <br /><br />The...\tpositive\n",
        "# 2\tI thought this was a wonderful way to spend ti...\tpositive\n",
        "\n",
        "# df.shape  # (50000, 2)"
      ],
      "metadata": {
        "id": "sp7khUsjDC1N"
      },
      "execution_count": 6,
      "outputs": []
    },
    {
      "cell_type": "code",
      "source": [
        "df = df.head(100)  # DEVELOPMENT MODE"
      ],
      "metadata": {
        "id": "xm4yXPXxibge"
      },
      "execution_count": 8,
      "outputs": []
    },
    {
      "cell_type": "code",
      "source": [
        "df[\"review\"][5]\n",
        "# 'Probably my all-time favorite movie, a story of selflessness, sacrifice and\n",
        "# dedication to a noble cause, but it\\'s not preachy or boring...'"
      ],
      "metadata": {
        "id": "mhmyq2-XDyDz"
      },
      "execution_count": null,
      "outputs": []
    },
    {
      "cell_type": "markdown",
      "source": [
        "### Text Noises Removal"
      ],
      "metadata": {
        "id": "u0VeyorbC_i1"
      }
    },
    {
      "cell_type": "markdown",
      "source": [
        "##### Lowercasing\n",
        "This standardization helps in reducing the complexity of text data by treating words with different cases (e.g., \"Text\" and \"text\")"
      ],
      "metadata": {
        "id": "ujqaRbIjlpI_"
      }
    },
    {
      "cell_type": "code",
      "source": [
        "df[\"review\"] = df[\"review\"].str.lower()\n",
        "\n",
        "# df[\"review\"][5]\n",
        "# 'probably my all-time favorite movie, a story of selflessness, sacrifice and dedication\n",
        "# to a noble cause, but it\\'s not preachy or boring...'"
      ],
      "metadata": {
        "id": "Bxbyc2sTlqlW"
      },
      "execution_count": 10,
      "outputs": []
    },
    {
      "cell_type": "markdown",
      "source": [
        "##### Removing punctuations\n",
        "\n",
        "Special characters like !\"#$%&'()*+,-./:;<=>?@[]^_`{|}~ that don't provide value for text analysis in many tasks (like classification)."
      ],
      "metadata": {
        "id": "iBELIlizma0-"
      }
    },
    {
      "cell_type": "code",
      "source": [
        "import string, time\n",
        "puncs = string.punctuation\n",
        "puncs"
      ],
      "metadata": {
        "colab": {
          "base_uri": "https://localhost:8080/",
          "height": 35
        },
        "id": "qmS2BG_9l1r5",
        "outputId": "0e994ca2-cfdf-4cf2-f93f-aab117d136d2"
      },
      "execution_count": 13,
      "outputs": [
        {
          "output_type": "execute_result",
          "data": {
            "text/plain": [
              "'!\"#$%&\\'()*+,-./:;<=>?@[\\\\]^_`{|}~'"
            ],
            "application/vnd.google.colaboratory.intrinsic+json": {
              "type": "string"
            }
          },
          "metadata": {},
          "execution_count": 13
        }
      ]
    },
    {
      "cell_type": "code",
      "source": [
        "def remove_punctuation(text):\n",
        "    for char in puncs:\n",
        "        text = text.replace(char, \"\")\n",
        "    return text"
      ],
      "metadata": {
        "id": "TGP2rT3isu_P"
      },
      "execution_count": 28,
      "outputs": []
    },
    {
      "cell_type": "code",
      "source": [
        "start = time.time()\n",
        "\n",
        "df['review'].apply(remove_punctuation)\n",
        "\n",
        "time1 = time.time() - start\n",
        "print(f'Time to remove all punctuations froms 100 texts: {time1}')"
      ],
      "metadata": {
        "colab": {
          "base_uri": "https://localhost:8080/"
        },
        "id": "gWtMkx8FnwgK",
        "outputId": "b67f9e8d-aa36-49bf-fe64-7ae1bfa31788"
      },
      "execution_count": 15,
      "outputs": [
        {
          "output_type": "stream",
          "name": "stdout",
          "text": [
            "Time for remove punctuations for 100 text: 0.020401716232299805\n"
          ]
        }
      ]
    },
    {
      "cell_type": "code",
      "source": [
        "text = \"Hello, world! This is a test: do you like it? Yes, I do... A lot; really! How about you? @username #hashtag $dollar %percent ^caret &amp *star (parentheses) -dash_underscore+plus=equals{curly}brackets[brackets]|\\backslash~tilde`backtick\"\n",
        "remove_punctuation(text)"
      ],
      "metadata": {
        "colab": {
          "base_uri": "https://localhost:8080/",
          "height": 52
        },
        "id": "GEcC6rIMsoU2",
        "outputId": "3f23d137-d832-4b99-ab3d-f487b645213a"
      },
      "execution_count": 29,
      "outputs": [
        {
          "output_type": "execute_result",
          "data": {
            "text/plain": [
              "'Hello world This is a test do you like it Yes I do A lot really How about you username hashtag dollar percent caret amp star parentheses dashunderscoreplusequalscurlybracketsbrackets\\x08ackslashtildebacktick'"
            ],
            "application/vnd.google.colaboratory.intrinsic+json": {
              "type": "string"
            }
          },
          "metadata": {},
          "execution_count": 29
        }
      ]
    },
    {
      "cell_type": "markdown",
      "source": [
        "##### Removing Stop Words\n",
        "\n",
        "* Removing stop words in NLP text processing is like cleaning up unnecessary words like \"the\", \"is\", and \"and\" from sentences.\n",
        "* These words appear frequently in language but don't add much meaning.\n",
        "* By getting rid of them, we focus more on the important words that carry the actual message, making our analysis faster and more accurate."
      ],
      "metadata": {
        "id": "hzbiIbHKonH4"
      }
    },
    {
      "cell_type": "code",
      "source": [
        "nltk.download('stopwords')"
      ],
      "metadata": {
        "colab": {
          "base_uri": "https://localhost:8080/"
        },
        "id": "Kdyv1vCtpVMn",
        "outputId": "670500ae-3852-41c1-cdc8-56c11bbd3aef"
      },
      "execution_count": 18,
      "outputs": [
        {
          "output_type": "stream",
          "name": "stderr",
          "text": [
            "[nltk_data] Downloading package stopwords to /root/nltk_data...\n",
            "[nltk_data]   Unzipping corpora/stopwords.zip.\n"
          ]
        },
        {
          "output_type": "execute_result",
          "data": {
            "text/plain": [
              "True"
            ]
          },
          "metadata": {},
          "execution_count": 18
        }
      ]
    },
    {
      "cell_type": "code",
      "source": [
        "from nltk.corpus import stopwords\n",
        "\n",
        "engSW = stopwords.words(\"english\")\n",
        "\n",
        "# | engSW[:5]\n",
        "# ['i', 'me', 'my', 'myself', 'we']"
      ],
      "metadata": {
        "id": "FPSWSHu8o_vO"
      },
      "execution_count": 19,
      "outputs": []
    },
    {
      "cell_type": "code",
      "source": [
        "def remove_stopwords(text):\n",
        "    new_text=[]\n",
        "    for word in text.split():\n",
        "        if word in engSW:\n",
        "            new_text.append('')\n",
        "        else:\n",
        "            new_text.append(word)\n",
        "\n",
        "    x = new_text[:]  # Create a copy of new_text\n",
        "    new_text.clear()  # Clear the original new_text list\n",
        "    return \" \".join(x)  # Join the copied list x into a single string separated by spaces and return it"
      ],
      "metadata": {
        "id": "Gy_mTLaApYbf"
      },
      "execution_count": 21,
      "outputs": []
    },
    {
      "cell_type": "code",
      "source": [
        "start = time.time()\n",
        "\n",
        "df['review'].apply(remove_stopwords)\n",
        "\n",
        "time1 = time.time() - start\n",
        "print(f'Time to remove all English stopwords from 100 texts.: {time1}')"
      ],
      "metadata": {
        "colab": {
          "base_uri": "https://localhost:8080/"
        },
        "id": "xr1yEfDnpsP7",
        "outputId": "4f0079b7-bc0a-4a77-d07c-a71ef3cb21ef"
      },
      "execution_count": 22,
      "outputs": [
        {
          "output_type": "stream",
          "name": "stdout",
          "text": [
            "Time to remove all English stopwords from 100 texts.: 0.09138917922973633\n"
          ]
        }
      ]
    },
    {
      "cell_type": "code",
      "source": [
        "text = \"The quick brown fox jumps over the lazy dog. In a nutshell, it's all about how you can improve your writing skills by using the right words in the right context.\"\n",
        "remove_stopwords(text)"
      ],
      "metadata": {
        "colab": {
          "base_uri": "https://localhost:8080/",
          "height": 52
        },
        "id": "dtsPhCPntDZ9",
        "outputId": "1a2c32e8-cc5a-4b72-9339-512aa9c8c3ca"
      },
      "execution_count": 30,
      "outputs": [
        {
          "output_type": "execute_result",
          "data": {
            "text/plain": [
              "'The quick brown fox jumps   lazy dog. In  nutshell,       improve  writing skills  using  right words   right context.'"
            ],
            "application/vnd.google.colaboratory.intrinsic+json": {
              "type": "string"
            }
          },
          "metadata": {},
          "execution_count": 30
        }
      ]
    },
    {
      "cell_type": "markdown",
      "source": [
        "##### Removing URLs\n",
        "\n",
        "* URLs often don't add meaningful information for tasks like sentiment analysis, text classification, or topic modeling.\n",
        "* URLs can make the model focus on irrelevant data rather than the actual content.\n",
        "* By removing them, you help the model concentrate on important words and improve the overall performance and accuracy."
      ],
      "metadata": {
        "id": "F8SS8X0zqboA"
      }
    },
    {
      "cell_type": "code",
      "source": [
        "# Function to remove URLs\n",
        "def remove_urls(text):\n",
        "    return re.sub(r'http\\S+|www\\S+', '', text)"
      ],
      "metadata": {
        "id": "ntASgZaArh1P"
      },
      "execution_count": 23,
      "outputs": []
    },
    {
      "cell_type": "code",
      "source": [
        "start = time.time()\n",
        "\n",
        "df['review'] = df['review'].apply(remove_urls)\n",
        "\n",
        "time1 = time.time() - start\n",
        "print(f'Time to remove all URLs from 100 texts.: {time1}')"
      ],
      "metadata": {
        "colab": {
          "base_uri": "https://localhost:8080/"
        },
        "id": "vhEN_4pbruDl",
        "outputId": "07447fd3-c3ea-45dd-df44-0a78298bc1a9"
      },
      "execution_count": 25,
      "outputs": [
        {
          "output_type": "stream",
          "name": "stdout",
          "text": [
            "Time to remove all URLs from 100 texts.: 0.004606485366821289\n"
          ]
        }
      ]
    },
    {
      "cell_type": "code",
      "source": [
        "text = 'Google search here www.google.com'\n",
        "remove_urls(text)"
      ],
      "metadata": {
        "colab": {
          "base_uri": "https://localhost:8080/",
          "height": 35
        },
        "id": "LQo7WxS5tLSq",
        "outputId": "60bf0ec3-a139-4ea2-eb22-9e689d66df54"
      },
      "execution_count": 31,
      "outputs": [
        {
          "output_type": "execute_result",
          "data": {
            "text/plain": [
              "'Google search here '"
            ],
            "application/vnd.google.colaboratory.intrinsic+json": {
              "type": "string"
            }
          },
          "metadata": {},
          "execution_count": 31
        }
      ]
    },
    {
      "cell_type": "markdown",
      "source": [
        "##### Removing HTML Tags\n",
        "\n",
        "* HTML tags (like `<div>`, `<p>`, `<a>`, etc.) are used for formatting and structuring web content, not for conveying meaningful information.\n",
        "* HTML tags don't contribute to understanding the actual content.."
      ],
      "metadata": {
        "id": "PbwULinEsKCY"
      }
    },
    {
      "cell_type": "code",
      "source": [
        "def remove_html_tags(text):\n",
        "    pattern = re.compile(\"<.*?>\")\n",
        "    return pattern.sub(r\"\", text)"
      ],
      "metadata": {
        "id": "RyXQKgRBsN_V"
      },
      "execution_count": 26,
      "outputs": []
    },
    {
      "cell_type": "code",
      "source": [
        "start = time.time()\n",
        "\n",
        "df['review'] = df['review'].apply(remove_html_tags)\n",
        "\n",
        "time1 = time.time() - start\n",
        "print(f'Time to remove HTML tags from 100 texts.: {time1}')"
      ],
      "metadata": {
        "colab": {
          "base_uri": "https://localhost:8080/"
        },
        "id": "3p77SngJsR8c",
        "outputId": "a56126e1-94d2-4a6f-9c80-a78d10058ea2"
      },
      "execution_count": 27,
      "outputs": [
        {
          "output_type": "stream",
          "name": "stdout",
          "text": [
            "Time to remove HTML tags from 100 texts.: 0.0019202232360839844\n"
          ]
        }
      ]
    },
    {
      "cell_type": "code",
      "source": [
        "text = \"<html><body><p> File </p><p> Author - Bob fischer</p><p> Hello world</p></body></html>\"\n",
        "remove_html_tags(text)"
      ],
      "metadata": {
        "colab": {
          "base_uri": "https://localhost:8080/",
          "height": 35
        },
        "id": "IQ7aCuGwtQoi",
        "outputId": "bb2d4db6-0fbd-41e4-e9c9-dad2aa9b7c63"
      },
      "execution_count": 33,
      "outputs": [
        {
          "output_type": "execute_result",
          "data": {
            "text/plain": [
              "' File  Author - Bob fischer Hello world'"
            ],
            "application/vnd.google.colaboratory.intrinsic+json": {
              "type": "string"
            }
          },
          "metadata": {},
          "execution_count": 33
        }
      ]
    },
    {
      "cell_type": "markdown",
      "source": [
        "##### Removing numbers\n",
        "\n",
        "* Numbers can distract the model from important words. By removing them, the model focus on the relevant linguistic content.\n",
        "* However, in some cases (like analyzing financial or scientific data), numbers may be important and shouldn't be removed."
      ],
      "metadata": {
        "id": "iaWeBfPPty_O"
      }
    },
    {
      "cell_type": "code",
      "source": [
        "def remove_numbers(text):\n",
        "    return re.sub(r'\\d+', '', text)"
      ],
      "metadata": {
        "id": "o0865_ABt0j3"
      },
      "execution_count": 34,
      "outputs": []
    },
    {
      "cell_type": "code",
      "source": [
        "start = time.time()\n",
        "\n",
        "df['review'] = df['review'].apply(remove_numbers)\n",
        "\n",
        "time1 = time.time() - start\n",
        "print(f'Time to remove HTML tags from 100 texts.: {time1}')"
      ],
      "metadata": {
        "colab": {
          "base_uri": "https://localhost:8080/"
        },
        "id": "gm5Hw5_quc-a",
        "outputId": "34a53975-baa4-4657-b493-a7e76cb6d3a4"
      },
      "execution_count": 35,
      "outputs": [
        {
          "output_type": "stream",
          "name": "stdout",
          "text": [
            "Time to remove HTML tags from 100 texts.: 0.00767827033996582\n"
          ]
        }
      ]
    },
    {
      "cell_type": "code",
      "source": [
        "text = \"In 2023, the company's revenue grew by 15%, reaching $10 million, and they hired 120 new employees across 5 offices.\"\n",
        "remove_numbers(text)"
      ],
      "metadata": {
        "colab": {
          "base_uri": "https://localhost:8080/",
          "height": 35
        },
        "id": "zwNwwA9xuhLT",
        "outputId": "0da131b6-8a5d-4f17-cc5b-93d65d6efe79"
      },
      "execution_count": 36,
      "outputs": [
        {
          "output_type": "execute_result",
          "data": {
            "text/plain": [
              "\"In , the company's revenue grew by %, reaching $ million, and they hired  new employees across  offices.\""
            ],
            "application/vnd.google.colaboratory.intrinsic+json": {
              "type": "string"
            }
          },
          "metadata": {},
          "execution_count": 36
        }
      ]
    },
    {
      "cell_type": "markdown",
      "source": [
        "##### Abbreviations\n",
        "\n",
        "* Abbreviations like \"btw\" (by the way), \"idk\" (I don't know), \"lol\" (laugh out loud) are shorthand for longer phrases.\n",
        "* In NLP, these can be problematic because they may not be understood by models or could lead to confusion."
      ],
      "metadata": {
        "id": "CrXnUf2fvsGm"
      }
    },
    {
      "cell_type": "code",
      "source": [
        "abbr_dictionary = {\n",
        "    'AFAIK': 'As Far As I Know',\n",
        "    'AFK': 'Away From Keyboard',\n",
        "    'ASAP': 'As Soon As Possible',\n",
        "    'ATK': 'At The Keyboard',\n",
        "    'ATM': 'At The Moment',\n",
        "    'A3': 'Anytime, Anywhere, Anyplace',\n",
        "    'BAK': 'Back At Keyboard',\n",
        "    'BBL': 'Be Back Later',\n",
        "    'BBS': 'Be Back Soon',\n",
        "    'BFN': 'Bye For Now',\n",
        "    'B4N': 'Bye For Now',\n",
        "    'BRB': 'Be Right Back',\n",
        "    'BRT': 'Be Right There',\n",
        "    'BTW': 'By The Way',\n",
        "    'B4': 'Before',\n",
        "    'CU': 'See You',\n",
        "    'CUL8R': 'See You Later',\n",
        "    'CYA': 'See You',\n",
        "    'FAQ': 'Frequently Asked Questions',\n",
        "    'FC': 'Fingers Crossed',\n",
        "    'FWIW': \"For What It's Worth\",\n",
        "    'FYI': 'For Your Information',\n",
        "    'GAL': 'Get A Life',\n",
        "    'GG': 'Good Game',\n",
        "    'GN': 'Good Night',\n",
        "    'GMTA': 'Great Minds Think Alike',\n",
        "    'GR8': 'Great!',\n",
        "    'G9': 'Genius',\n",
        "    'IC': 'I See',\n",
        "    'ICQ': 'I Seek you (also a chat program)',\n",
        "    'IDK': 'I Dont Know',\n",
        "    'ILU': 'ILU: I Love You',\n",
        "    'IMHO': 'In My Honest/Humble Opinion',\n",
        "    'IMO': 'In My Opinion',\n",
        "    'IOW': 'In Other Words',\n",
        "    'IRL': 'In Real Life',\n",
        "    'KISS': 'Keep It Simple, Stupid',\n",
        "    'LDR': 'Long Distance Relationship',\n",
        "    'LMAO': 'Laugh My A.. Off',\n",
        "    'LOL': 'Laughing Out Loud',\n",
        "    'LTNS': 'Long Time No See',\n",
        "    'L8R': 'Later',\n",
        "    'MTE': 'My Thoughts Exactly',\n",
        "    'M8': 'Mate',\n",
        "    'NRN': 'No Reply Necessary',\n",
        "    'OIC': 'Oh I See',\n",
        "    'PITA': 'Pain In The A..',\n",
        "    'PRT': 'Party',\n",
        "    'PRW': 'Parents Are Watching',\n",
        "    'QPSA?': 'Que Pasa?',\n",
        "    'ROFL': 'Rolling On The Floor Laughing',\n",
        "    'ROFLOL': 'Rolling On The Floor Laughing Out Loud',\n",
        "    'ROTFLMAO': 'Rolling On The Floor Laughing My A.. Off',\n",
        "    'SK8': 'Skate',\n",
        "    'STATS': 'Your sex and age',\n",
        "    'ASL': 'Age, Sex, Location',\n",
        "    'THX': 'Thank You',\n",
        "    'TTFN': 'Ta-Ta For Now!',\n",
        "    'TTYL': 'Talk To You Later',\n",
        "    'U': 'You',\n",
        "    'U2': 'You Too',\n",
        "    'U4E': 'Yours For Ever',\n",
        "    'WB': 'Welcome Back',\n",
        "    'WTF': 'What The F...',\n",
        "    'WTG': 'Way To Go!',\n",
        "    'WUF': 'Where Are You From?',\n",
        "    'W8': 'Wait...',\n",
        "    '7K': 'Sick:-D Laugher',\n",
        "    'TFW': 'That feeling when',\n",
        "    'MFW': 'My face when',\n",
        "    'MRW': 'My reaction when',\n",
        "    'IFYP': 'I feel your pain',\n",
        "    'TNTL': 'Trying not to laugh',\n",
        "    'JK': 'Just kidding',\n",
        "    'IDC': \"I don't care\",\n",
        "    'ILY': 'I love you',\n",
        "    'IMU': 'I miss you',\n",
        "    'ADIH': 'Another day in hell',\n",
        "    'ZZZ': 'Sleeping, bored, tired',\n",
        "    'WYWH': 'Wish you were here',\n",
        "    'TIME': 'Tears in my eyes',\n",
        "    'BAE': 'Before anyone else',\n",
        "    'FIMH': 'Forever in my heart',\n",
        "    'BSAAW': 'Big smile and a wink',\n",
        "    'BWL': 'Bursting with laughter',\n",
        "    'BFF': 'Best friends forever',\n",
        "    'CSL': \"Can't stop laughing\"\n",
        "}"
      ],
      "metadata": {
        "id": "QrIcGmeTvtjS"
      },
      "execution_count": 43,
      "outputs": []
    },
    {
      "cell_type": "code",
      "source": [
        "def short_conv(text):\n",
        "    new_text = []\n",
        "    for w in text.split():\n",
        "        if w.upper() in abbr_dictionary:\n",
        "            new_text.append(abbr_dictionary[w.upper()])\n",
        "        else:\n",
        "            new_text.append(w)\n",
        "    return \" \".join(new_text)"
      ],
      "metadata": {
        "id": "VAaK0jV6vzJt"
      },
      "execution_count": 38,
      "outputs": []
    },
    {
      "cell_type": "code",
      "source": [
        "start = time.time()\n",
        "\n",
        "df['review'] = df['review'].apply(short_conv)\n",
        "\n",
        "time1 = time.time() - start\n",
        "print(f'Time to handle all abbreviations from 100 texts.: {time1}')"
      ],
      "metadata": {
        "colab": {
          "base_uri": "https://localhost:8080/"
        },
        "id": "lt_6CIKnwH8i",
        "outputId": "1d15fa66-f950-46c7-9085-162d5f7aab31"
      },
      "execution_count": 39,
      "outputs": [
        {
          "output_type": "stream",
          "name": "stdout",
          "text": [
            "Time to handle all abbreviations from 100 texts.: 0.01204824447631836\n"
          ]
        }
      ]
    },
    {
      "cell_type": "code",
      "source": [
        "text = \"btw, I didn't get your message. lol, idk what happened!\"\n",
        "text = remove_punctuation(text)\n",
        "short_conv(text)"
      ],
      "metadata": {
        "colab": {
          "base_uri": "https://localhost:8080/",
          "height": 35
        },
        "id": "AIuBMofywDhF",
        "outputId": "fa97182c-aa5f-4fe4-b60a-b3698c666318"
      },
      "execution_count": 46,
      "outputs": [
        {
          "output_type": "execute_result",
          "data": {
            "text/plain": [
              "'By The Way I didnt get your message Laughing Out Loud I Dont Know what happened'"
            ],
            "application/vnd.google.colaboratory.intrinsic+json": {
              "type": "string"
            }
          },
          "metadata": {},
          "execution_count": 46
        }
      ]
    },
    {
      "cell_type": "markdown",
      "source": [
        "##### Removing emojies"
      ],
      "metadata": {
        "id": "i-1MvbaSxoDI"
      }
    },
    {
      "cell_type": "code",
      "source": [
        "# Removing Emojis\n",
        "def remove_emoji(text):\n",
        "    emoji_pattern=re.compile(\"[\"\n",
        "                             u\"\\U0001F600-\\U0001F64F\" #emoticons\n",
        "                             u\"\\U0001F300-\\U0001F5FF\" #symbols, pictograph\n",
        "                              u\"\\U0001F680-\\U0001F6FF\" #transport and map symbol\n",
        "                              u\"\\U0001F1E0-\\U0001F1FF\" #flags(IOS)\n",
        "                              u\"\\U00002702-\\U000027B0\"\n",
        "                              u\"\\U00002FC2-\\U0001F251\"\n",
        "                             \"]+\",flags=re.UNICODE)\n",
        "    return emoji_pattern.sub(r'',text)"
      ],
      "metadata": {
        "id": "sUaBA2gWxqVZ"
      },
      "execution_count": 47,
      "outputs": []
    },
    {
      "cell_type": "code",
      "source": [
        "start = time.time()\n",
        "\n",
        "df['review'] = df['review'].apply(remove_emoji)\n",
        "\n",
        "time1 = time.time() - start\n",
        "print(f'Time to remove all emojies from 100 texts.: {time1}')"
      ],
      "metadata": {
        "colab": {
          "base_uri": "https://localhost:8080/"
        },
        "id": "JtCbaCfXxyJq",
        "outputId": "c44b1c94-acee-4c4e-814d-897bdc2bdf7b"
      },
      "execution_count": 48,
      "outputs": [
        {
          "output_type": "stream",
          "name": "stdout",
          "text": [
            "Time to remove all emojies from 100 texts.: 0.01631331443786621\n"
          ]
        }
      ]
    },
    {
      "cell_type": "code",
      "source": [
        "text = \"I'm so excited for the party tonight! 🎉 Can't wait to see everyone there! 😄\"\n",
        "remove_emoji(text)"
      ],
      "metadata": {
        "colab": {
          "base_uri": "https://localhost:8080/",
          "height": 35
        },
        "id": "mIwKEldMxv2a",
        "outputId": "d2a1b4cd-0ac5-422c-e76f-dfa7df125e02"
      },
      "execution_count": 49,
      "outputs": [
        {
          "output_type": "execute_result",
          "data": {
            "text/plain": [
              "\"I'm so excited for the party tonight!  Can't wait to see everyone there! \""
            ],
            "application/vnd.google.colaboratory.intrinsic+json": {
              "type": "string"
            }
          },
          "metadata": {},
          "execution_count": 49
        }
      ]
    }
  ]
}